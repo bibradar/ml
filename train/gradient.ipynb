{
 "cells": [
  {
   "cell_type": "code",
   "execution_count": 3,
   "metadata": {},
   "outputs": [],
   "source": [
    "import pandas as pd \n",
    "from xgboost import XGBRegressor\n",
    "from sklearn.model_selection import train_test_split\n",
    "from data.get_data import get_data_frame\n",
    "from dotenv import load_dotenv, dotenv_values\n",
    "\n",
    "from data.db import DatabaseConnection\n",
    "\n",
    "load_dotenv()\n",
    "\n",
    "df = get_data_frame(1)\n",
    "\n",
    "df.head()\n"
   ]
  },
  {
   "cell_type": "code",
   "execution_count": null,
   "metadata": {},
   "outputs": [],
   "source": [
    "\n",
    "features_to_keep = ['accesspoint_id ','timestamp','user_count', 'library_name']\n",
    "X, y = df[features_to_keep], df.probability_for_lib\n",
    "\n",
    "X_train, X_test, y_train, y_test = train_test_split(X, y, test_size=0.2)\n",
    "\n",
    "model = XGBRegressor(n_estimators=100, learning_rate=0.1)\n",
    "model.fit(X, y)\n",
    "\n",
    "\n",
    "## test lightgbm\n",
    "\n",
    "## test MAPIE\n"
   ]
  }
 ],
 "metadata": {
  "kernelspec": {
   "display_name": "Python 3",
   "language": "python",
   "name": "python3"
  },
  "language_info": {
   "codemirror_mode": {
    "name": "ipython",
    "version": 3
   },
   "file_extension": ".py",
   "mimetype": "text/x-python",
   "name": "python",
   "nbconvert_exporter": "python",
   "pygments_lexer": "ipython3",
   "version": "3.12.1"
  }
 },
 "nbformat": 4,
 "nbformat_minor": 2
}
