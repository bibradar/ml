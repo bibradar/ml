{
 "cells": [
  {
   "cell_type": "code",
   "execution_count": 14,
   "id": "ce61f1bf-0222-40e6-854b-c21b0ac99f83",
   "metadata": {},
   "outputs": [],
   "source": [
    "from gluonts.dataset.split import split\n",
    "from gluonts.torch import PatchTSTEstimator\n",
    "from gluonts.dataset.pandas import PandasDataset\n",
    "from dotenv import load_dotenv\n",
    "import matplotlib.pyplot as plt\n",
    "import pandas as pd\n",
    "from gluonts.dataset.common import ListDataset\n",
    "import torch\n",
    "from gluonts.model.predictor import Predictor\n",
    "\n",
    "import os\n",
    "from lightning.pytorch import Trainer\n",
    "from lightning.pytorch.loggers import CSVLogger\n",
    "from lightning.pytorch.callbacks import ModelCheckpoint"
   ]
  },
  {
   "cell_type": "code",
   "execution_count": 3,
   "id": "b797d049-3da3-4e1c-a1b6-8d8ed0c8a9d4",
   "metadata": {},
   "outputs": [
    {
     "data": {
      "text/plain": [
       "True"
      ]
     },
     "execution_count": 3,
     "metadata": {},
     "output_type": "execute_result"
    }
   ],
   "source": [
    "from pathlib import Path\n",
    "import os\n",
    "\n",
    "load_dotenv()"
   ]
  },
  {
   "cell_type": "code",
   "execution_count": 4,
   "id": "1ee46024-1547-4065-ad21-5754c5cafe91",
   "metadata": {},
   "outputs": [],
   "source": [
    "from data.get_data import get_data_frame, get_max_user_count"
   ]
  },
  {
   "cell_type": "code",
   "execution_count": 5,
   "id": "94b2146c-5d6a-483d-96f3-bad20469fa9f",
   "metadata": {},
   "outputs": [
    {
     "name": "stdout",
     "output_type": "stream",
     "text": [
      "Connected to database\n"
     ]
    }
   ],
   "source": [
    "df = get_data_frame(1)\n",
    "df.set_index('timestamp', inplace=True)"
   ]
  },
  {
   "cell_type": "code",
   "execution_count": 15,
   "id": "bdb1fb9b-171e-42b8-812f-fbd0a28cd097",
   "metadata": {},
   "outputs": [
    {
     "name": "stderr",
     "output_type": "stream",
     "text": [
      "GPU available: True (cuda), used: False\n",
      "TPU available: False, using: 0 TPU cores\n",
      "HPU available: False, using: 0 HPUs\n",
      "/home/deep/marius/ml/venv/lib/python3.10/site-packages/lightning/pytorch/trainer/setup.py:177: GPU available but not used. You can set it by doing `Trainer(accelerator='gpu')`.\n",
      "/home/deep/marius/ml/venv/lib/python3.10/site-packages/lightning/pytorch/trainer/configuration_validator.py:70: You defined a `validation_step` but have no `val_dataloader`. Skipping val loop.\n",
      "/home/deep/marius/ml/venv/lib/python3.10/site-packages/lightning/pytorch/callbacks/model_checkpoint.py:654: Checkpoint directory /home/deep/marius/ml/models exists and is not empty.\n",
      "\n",
      "  | Name  | Type          | Params | Mode \n",
      "------------------------------------------------\n",
      "0 | model | PatchTSTModel | 11.8 M | train\n",
      "------------------------------------------------\n",
      "11.8 M    Trainable params\n",
      "3.8 K     Non-trainable params\n",
      "11.8 M    Total params\n",
      "47.318    Total estimated model params size (MB)\n",
      "34        Modules in train mode\n",
      "0         Modules in eval mode\n"
     ]
    },
    {
     "data": {
      "application/vnd.jupyter.widget-view+json": {
       "model_id": "05520c4d4db74fd296baf52321fdaae0",
       "version_major": 2,
       "version_minor": 0
      },
      "text/plain": [
       "Training: |                                                                                     | 0/? [00:00<?…"
      ]
     },
     "metadata": {},
     "output_type": "display_data"
    },
    {
     "name": "stderr",
     "output_type": "stream",
     "text": [
      "Epoch 0, global step 50: 'train_loss' reached 8.54441 (best 8.54441), saving model to './logs/patchtst_training/version_0/checkpoints/epoch=0-step=50.ckpt' as top 1\n",
      "/home/deep/marius/ml/venv/lib/python3.10/site-packages/lightning/pytorch/callbacks/model_checkpoint.py:384: `ModelCheckpoint(monitor='val_loss')` could not find the monitored key in the returned metrics: ['train_loss', 'epoch', 'step']. HINT: Did you call `log('val_loss', value)` in the `LightningModule`?\n",
      "Epoch 1, global step 100: 'train_loss' reached 7.14212 (best 7.14212), saving model to './logs/patchtst_training/version_0/checkpoints/epoch=1-step=100.ckpt' as top 1\n",
      "Epoch 2, global step 150: 'train_loss' reached 6.52412 (best 6.52412), saving model to './logs/patchtst_training/version_0/checkpoints/epoch=2-step=150.ckpt' as top 1\n",
      "Epoch 3, global step 200: 'train_loss' reached 6.33231 (best 6.33231), saving model to './logs/patchtst_training/version_0/checkpoints/epoch=3-step=200.ckpt' as top 1\n",
      "Epoch 4, global step 250: 'train_loss' reached 6.24277 (best 6.24277), saving model to './logs/patchtst_training/version_0/checkpoints/epoch=4-step=250.ckpt' as top 1\n",
      "Epoch 5, global step 300: 'train_loss' reached 6.23212 (best 6.23212), saving model to './logs/patchtst_training/version_0/checkpoints/epoch=5-step=300.ckpt' as top 1\n",
      "Epoch 6, global step 350: 'train_loss' reached 6.13108 (best 6.13108), saving model to './logs/patchtst_training/version_0/checkpoints/epoch=6-step=350.ckpt' as top 1\n",
      "Epoch 7, global step 400: 'train_loss' reached 6.13091 (best 6.13091), saving model to './logs/patchtst_training/version_0/checkpoints/epoch=7-step=400.ckpt' as top 1\n",
      "Epoch 8, global step 450: 'train_loss' reached 6.05457 (best 6.05457), saving model to './logs/patchtst_training/version_0/checkpoints/epoch=8-step=450.ckpt' as top 1\n",
      "Epoch 9, global step 500: 'train_loss' reached 6.02177 (best 6.02177), saving model to './logs/patchtst_training/version_0/checkpoints/epoch=9-step=500.ckpt' as top 1\n",
      "Epoch 10, global step 550: 'train_loss' reached 6.00053 (best 6.00053), saving model to './logs/patchtst_training/version_0/checkpoints/epoch=10-step=550.ckpt' as top 1\n",
      "Epoch 11, global step 600: 'train_loss' was not in top 1\n",
      "Epoch 12, global step 650: 'train_loss' was not in top 1\n",
      "Epoch 13, global step 700: 'train_loss' reached 5.94431 (best 5.94431), saving model to './logs/patchtst_training/version_0/checkpoints/epoch=13-step=700.ckpt' as top 1\n",
      "Epoch 14, global step 750: 'train_loss' was not in top 1\n",
      "Epoch 15, global step 800: 'train_loss' reached 5.91659 (best 5.91659), saving model to './logs/patchtst_training/version_0/checkpoints/epoch=15-step=800.ckpt' as top 1\n",
      "Epoch 16, global step 850: 'train_loss' reached 5.83029 (best 5.83029), saving model to './logs/patchtst_training/version_0/checkpoints/epoch=16-step=850.ckpt' as top 1\n",
      "Epoch 17, global step 900: 'train_loss' reached 5.80677 (best 5.80677), saving model to './logs/patchtst_training/version_0/checkpoints/epoch=17-step=900.ckpt' as top 1\n",
      "Epoch 18, global step 950: 'train_loss' was not in top 1\n",
      "Epoch 19, global step 1000: 'train_loss' was not in top 1\n",
      "Epoch 20, global step 1050: 'train_loss' was not in top 1\n",
      "Epoch 21, global step 1100: 'train_loss' was not in top 1\n",
      "Epoch 22, global step 1150: 'train_loss' was not in top 1\n",
      "Epoch 23, global step 1200: 'train_loss' reached 5.76269 (best 5.76269), saving model to './logs/patchtst_training/version_0/checkpoints/epoch=23-step=1200.ckpt' as top 1\n",
      "Epoch 24, global step 1250: 'train_loss' was not in top 1\n",
      "Epoch 25, global step 1300: 'train_loss' was not in top 1\n",
      "Epoch 26, global step 1350: 'train_loss' reached 5.71075 (best 5.71075), saving model to './logs/patchtst_training/version_0/checkpoints/epoch=26-step=1350.ckpt' as top 1\n",
      "Epoch 27, global step 1400: 'train_loss' was not in top 1\n",
      "Epoch 28, global step 1450: 'train_loss' was not in top 1\n",
      "Epoch 29, global step 1500: 'train_loss' was not in top 1\n",
      "`Trainer.fit` stopped: `max_epochs=30` reached.\n"
     ]
    }
   ],
   "source": [
    "\n",
    "freq = \"15min\"\n",
    "prediction_length = 96\n",
    "\n",
    "# Mock dataframe example (replace with your actual data)\n",
    "# df = pd.DataFrame({\"user_count\": [...]}, index=pd.date_range(...))\n",
    "\n",
    "# Create training dataset\n",
    "train_ds = ListDataset(\n",
    "    [{\"start\": df.index[0], \"target\": df['user_count'].values}],\n",
    "    freq=freq\n",
    ")\n",
    "\n",
    "# Create testing dataset\n",
    "test_ds = ListDataset(\n",
    "    [{\"start\": df.index[0], \"target\": df['user_count'].values}],\n",
    "    freq=freq\n",
    ")\n",
    "\n",
    "# Set up CSV Logger\n",
    "logger = CSVLogger(save_dir=\"./logs/\", name=\"patchtst_training\")\n",
    "\n",
    "# Define checkpointing callback to save the model\n",
    "model_checkpoint = ModelCheckpoint(\n",
    "    dirpath=\"./models/\",\n",
    "    filename=\"best_model\",\n",
    "    save_top_k=1,\n",
    "    monitor=\"val_loss\",\n",
    "    mode=\"min\",\n",
    ")\n",
    "\n",
    "# Initialize estimator\n",
    "estimatorTST = PatchTSTEstimator(\n",
    "    prediction_length=prediction_length,\n",
    "    context_length=prediction_length * 10,\n",
    "    patch_len=16,\n",
    "    stride=8,\n",
    "    trainer_kwargs={\n",
    "        \"accelerator\": \"cpu\",\n",
    "        \"max_epochs\": 30,\n",
    "        \"logger\": logger,\n",
    "        \"callbacks\": [model_checkpoint],\n",
    "        \"log_every_n_steps\": 1,\n",
    "    }\n",
    ")\n",
    "\n",
    "# Train the model using the train() method\n",
    "predictorTST = estimatorTST.train(train_ds)"
   ]
  },
  {
   "cell_type": "code",
   "execution_count": 16,
   "id": "42eef3db-24d9-41de-8e6f-200cddc934ae",
   "metadata": {},
   "outputs": [
    {
     "data": {
      "image/png": "[encoded data removed]",
      "text/plain": [
       "<Figure size 1000x600 with 1 Axes>"
      ]
     },
     "metadata": {},
     "output_type": "display_data"
    }
   ],
   "source": [
    "# Read the CSV log and plot training and validation losses\n",
    "metrics_path = Path(logger.log_dir) / \"metrics.csv\"\n",
    "metrics = pd.read_csv(metrics_path)\n",
    "\n",
    "# Plot the training and validation losses\n",
    "plt.figure(figsize=(10, 6))\n",
    "plt.plot(metrics[\"epoch\"], metrics[\"train_loss\"], label=\"Training Loss\", marker=\"o\")\n",
    "if \"val_loss\" in metrics.columns:\n",
    "    plt.plot(metrics[\"epoch\"], metrics[\"val_loss\"], label=\"Validation Loss\", marker=\"o\")\n",
    "plt.title(\"Training and Validation Loss\")\n",
    "plt.xlabel(\"Epoch\")\n",
    "plt.ylabel(\"Loss\")\n",
    "plt.legend()\n",
    "plt.grid()\n",
    "plt.show()"
   ]
  },
  {
   "cell_type": "code",
   "execution_count": 17,
   "id": "a2c85122-39b8-455a-ac70-6cb45065d0f8",
   "metadata": {},
   "outputs": [],
   "source": [
    "# Save the predictor\n",
    "model_save_path = Path(f\"./models/\")\n",
    "if not model_save_path.exists():\n",
    "    os.makedirs(model_save_path)\n",
    "\n",
    "predictorTST.serialize(model_save_path)\n",
    "\n",
    "# Make forecasts\n",
    "forecasts = list(predictorTST.predict(test_ds))"
   ]
  },
  {
   "cell_type": "code",
   "execution_count": null,
   "id": "c52348d4-fe5a-4ba5-b32b-66cd7cb04287",
   "metadata": {},
   "outputs": [],
   "source": []
  }
 ],
 "metadata": {
  "kernelspec": {
   "display_name": "Python 3 (ipykernel)",
   "language": "python",
   "name": "python3"
  },
  "language_info": {
   "codemirror_mode": {
    "name": "ipython",
    "version": 3
   },
   "file_extension": ".py",
   "mimetype": "text/x-python",
   "name": "python",
   "nbconvert_exporter": "python",
   "pygments_lexer": "ipython3",
   "version": "3.10.12"
  }
 },
 "nbformat": 4,
 "nbformat_minor": 5
}
